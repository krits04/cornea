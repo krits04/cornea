{
 "cells": [
  {
   "cell_type": "markdown",
   "metadata": {},
   "source": [
    "<h1><center> Protein classification using Random Forest </center></h1>\n",
    "\n",
    "Using the new dataset with environment features"
   ]
  },
  {
   "cell_type": "code",
   "execution_count": 1,
   "metadata": {
    "scrolled": true
   },
   "outputs": [],
   "source": [
    "import pandas as pd\n",
    "import numpy as np\n",
    "import matplotlib.pyplot as plt\n",
    "%matplotlib inline\n",
    "import glob\n",
    "import os\n",
    "\n",
    "import sys\n",
    "import math\n",
    "import time\n",
    "import random\n",
    "\n",
    "from tqdm import tqdm\n",
    "from pprint import pprint\n",
    "from pathlib import Path\n",
    "\n",
    "import joblib\n",
    "from sklearn.model_selection import GridSearchCV\n",
    "from sklearn.ensemble import RandomForestClassifier\n",
    "from sklearn.model_selection import train_test_split, RandomizedSearchCV\n",
    "from sklearn.metrics import accuracy_score, roc_curve, roc_auc_score, auc\n",
    "from sklearn.metrics import f1_score, classification_report\n",
    "\n",
    "\n",
    "import seaborn as sns; sns.set(style='ticks', font='serif')\n",
    "\n",
    "from sklearn.preprocessing import LabelEncoder, OneHotEncoder, StandardScaler"
   ]
  },
  {
   "cell_type": "code",
   "execution_count": 2,
   "metadata": {},
   "outputs": [],
   "source": [
    "data_dir = \"path to training dataset\""
   ]
  },
  {
   "cell_type": "markdown",
   "metadata": {},
   "source": [
    "Make header consistent throughout the files by running the following command in the terminal\n",
    "\n",
    "```\n",
    "var='\"\",\"cmi.m.Var1\",\"cmi.m.Var2\",\"cmi.m$value\",\"ecmi.m$value\",\"cc.m$value\",\"ecc.m$value\",\"cp.m$value\",\"ecp.m$value\",\"cp1.m$value\",\"ecp1.m$value\",\"cp2.m$value\",\"ecp2.m$value\",\"hcm.m$value\",\"ehcm.m$value\",\"rsa.m$value\",\"ersa.m$value\",\"scm.m$value\",\"escm.m$value\",\"ssp.m$value\",\"essp.m$value\",\"inf.m$value\"'\n",
    "for i in $( ls *.csv ); do\n",
    "    sed -i \"1s/.*/$var/\" $i\n",
    "done\n",
    "```"
   ]
  },
  {
   "cell_type": "code",
   "execution_count": 3,
   "metadata": {},
   "outputs": [
    {
     "data": {
      "text/plain": [
       "((24304, 18), (117, 1))"
      ]
     },
     "execution_count": 3,
     "metadata": {},
     "output_type": "execute_result"
    }
   ],
   "source": [
    "df = pd.read_csv(data_dir + \"1a2k_k3_df.csv\", engine= 'python')\n",
    "\n",
    "df_x = (df[[\"cmi.m$value\",\"cc.m$value\",\"cp.m$value\",\"cp1.m$value\", \"cp2.m$value\",\"hcm.m$value\",\"rsa.m$value\",\n",
    "            \"scm.m$value\",\"ssp.m$value\", \"ecc.m$value\", \"ecmi.m$value\", \"ecp.m$value\", \"ecp1.m$value\", \"ecp2.m$value\", \"ehcm.m$value\", \"ersa.m$value\", \"escm.m$value\", \"essp.m$value\"]])\n",
    "\n",
    "df_y = (df[[\"inf.m$value\"]])\n",
    "\n",
    "df_x.shape, df_y[df_y[\"inf.m$value\"] == 1].shape"
   ]
  },
  {
   "cell_type": "code",
   "execution_count": 4,
   "metadata": {
    "scrolled": true
   },
    "source": [
    "file_list = glob.glob(data_dir + \"*.csv\")\n",
    "\n",
    "for file_name in file_list:\n",
    "    \n",
    "        df_temp = pd.read_csv(file_name)\n",
    "        df_xn = (df_temp[[\"cmi.m$value\",\"cc.m$value\",\"cp.m$value\",\"cp1.m$value\", \"cp2.m$value\",\"hcm.m$value\",\"rsa.m$value\",\n",
    "            \"scm.m$value\",\"ssp.m$value\", \"ecc.m$value\", \"ecmi.m$value\", \"ecp.m$value\", \"ecp1.m$value\", \"ecp2.m$value\", \"ehcm.m$value\", \"ersa.m$value\", \"escm.m$value\", \"essp.m$value\"]])\n",
    "        df_yn = (df_temp[[\"inf.m$value\"]])\n",
    "        df_x = df_x.append(df_xn, ignore_index=True)\n",
    "        df_y = df_y.append(df_yn, ignore_index=True)\n",
    "        print(\"'%-40s' file read with %i True\" %(file_name, df_temp[df_temp[\"inf.m$value\"] == 1].shape[0]))"
   ]
  },
  {
   "cell_type": "code",
   "execution_count": 5,
   "metadata": {
    "scrolled": true
   },
   "outputs": [
    {
     "data": {
      "text/html": [
       "<div>\n",
       "<style scoped>\n",
       "    .dataframe tbody tr th:only-of-type {\n",
       "        vertical-align: middle;\n",
       "    }\n",
       "\n",
       "    .dataframe tbody tr th {\n",
       "        vertical-align: top;\n",
       "    }\n",
       "\n",
       "    .dataframe thead th {\n",
       "        text-align: right;\n",
       "    }\n",
       "</style>\n",
       "<table border=\"1\" class=\"dataframe\">\n",
       "  <thead>\n",
       "    <tr style=\"text-align: right;\">\n",
       "      <th></th>\n",
       "      <th>cmi.m$value</th>\n",
       "      <th>cc.m$value</th>\n",
       "      <th>cp.m$value</th>\n",
       "      <th>cp1.m$value</th>\n",
       "      <th>cp2.m$value</th>\n",
       "      <th>hcm.m$value</th>\n",
       "      <th>rsa.m$value</th>\n",
       "      <th>scm.m$value</th>\n",
       "      <th>ssp.m$value</th>\n",
       "      <th>ecc.m$value</th>\n",
       "      <th>ecmi.m$value</th>\n",
       "      <th>ecp.m$value</th>\n",
       "      <th>ecp1.m$value</th>\n",
       "      <th>ecp2.m$value</th>\n",
       "      <th>ehcm.m$value</th>\n",
       "      <th>ersa.m$value</th>\n",
       "      <th>escm.m$value</th>\n",
       "      <th>essp.m$value</th>\n",
       "    </tr>\n",
       "  </thead>\n",
       "  <tbody>\n",
       "    <tr>\n",
       "      <th>0</th>\n",
       "      <td>0.747425</td>\n",
       "      <td>0.642105</td>\n",
       "      <td>0.380208</td>\n",
       "      <td>0.970297</td>\n",
       "      <td>0.649485</td>\n",
       "      <td>0.842105</td>\n",
       "      <td>0.875000</td>\n",
       "      <td>0.865854</td>\n",
       "      <td>0.6</td>\n",
       "      <td>0.128695</td>\n",
       "      <td>0.405053</td>\n",
       "      <td>0.004341</td>\n",
       "      <td>0.307943</td>\n",
       "      <td>0.373581</td>\n",
       "      <td>0.111101</td>\n",
       "      <td>0.320395</td>\n",
       "      <td>0.136048</td>\n",
       "      <td>0.266667</td>\n",
       "    </tr>\n",
       "    <tr>\n",
       "      <th>1</th>\n",
       "      <td>0.460760</td>\n",
       "      <td>0.615789</td>\n",
       "      <td>0.276042</td>\n",
       "      <td>0.712871</td>\n",
       "      <td>0.855670</td>\n",
       "      <td>0.347368</td>\n",
       "      <td>0.250000</td>\n",
       "      <td>0.932662</td>\n",
       "      <td>0.4</td>\n",
       "      <td>0.301955</td>\n",
       "      <td>0.564696</td>\n",
       "      <td>0.185416</td>\n",
       "      <td>0.525674</td>\n",
       "      <td>0.575125</td>\n",
       "      <td>0.331798</td>\n",
       "      <td>0.432414</td>\n",
       "      <td>0.424396</td>\n",
       "      <td>0.430769</td>\n",
       "    </tr>\n",
       "    <tr>\n",
       "      <th>2</th>\n",
       "      <td>0.546943</td>\n",
       "      <td>0.642105</td>\n",
       "      <td>0.380208</td>\n",
       "      <td>0.970297</td>\n",
       "      <td>0.649485</td>\n",
       "      <td>0.842105</td>\n",
       "      <td>0.500000</td>\n",
       "      <td>0.865854</td>\n",
       "      <td>0.4</td>\n",
       "      <td>0.303993</td>\n",
       "      <td>0.395378</td>\n",
       "      <td>0.157781</td>\n",
       "      <td>0.347092</td>\n",
       "      <td>0.506431</td>\n",
       "      <td>0.260565</td>\n",
       "      <td>0.211100</td>\n",
       "      <td>0.408378</td>\n",
       "      <td>0.343590</td>\n",
       "    </tr>\n",
       "    <tr>\n",
       "      <th>3</th>\n",
       "      <td>0.181230</td>\n",
       "      <td>0.652632</td>\n",
       "      <td>0.231771</td>\n",
       "      <td>0.118812</td>\n",
       "      <td>0.721649</td>\n",
       "      <td>0.331579</td>\n",
       "      <td>0.000000</td>\n",
       "      <td>0.723754</td>\n",
       "      <td>0.4</td>\n",
       "      <td>0.263967</td>\n",
       "      <td>0.257656</td>\n",
       "      <td>0.186501</td>\n",
       "      <td>0.345390</td>\n",
       "      <td>0.331820</td>\n",
       "      <td>0.328608</td>\n",
       "      <td>0.196118</td>\n",
       "      <td>0.428089</td>\n",
       "      <td>0.343590</td>\n",
       "    </tr>\n",
       "    <tr>\n",
       "      <th>4</th>\n",
       "      <td>0.036292</td>\n",
       "      <td>0.310526</td>\n",
       "      <td>0.437500</td>\n",
       "      <td>0.346535</td>\n",
       "      <td>0.329897</td>\n",
       "      <td>1.000000</td>\n",
       "      <td>0.250000</td>\n",
       "      <td>0.865854</td>\n",
       "      <td>0.4</td>\n",
       "      <td>0.255629</td>\n",
       "      <td>0.149792</td>\n",
       "      <td>0.147869</td>\n",
       "      <td>0.242411</td>\n",
       "      <td>0.323196</td>\n",
       "      <td>0.265527</td>\n",
       "      <td>0.072863</td>\n",
       "      <td>0.432262</td>\n",
       "      <td>0.343590</td>\n",
       "    </tr>\n",
       "    <tr>\n",
       "      <th>...</th>\n",
       "      <td>...</td>\n",
       "      <td>...</td>\n",
       "      <td>...</td>\n",
       "      <td>...</td>\n",
       "      <td>...</td>\n",
       "      <td>...</td>\n",
       "      <td>...</td>\n",
       "      <td>...</td>\n",
       "      <td>...</td>\n",
       "      <td>...</td>\n",
       "      <td>...</td>\n",
       "      <td>...</td>\n",
       "      <td>...</td>\n",
       "      <td>...</td>\n",
       "      <td>...</td>\n",
       "      <td>...</td>\n",
       "      <td>...</td>\n",
       "      <td>...</td>\n",
       "    </tr>\n",
       "    <tr>\n",
       "      <th>1895232</th>\n",
       "      <td>0.262969</td>\n",
       "      <td>0.421053</td>\n",
       "      <td>0.490272</td>\n",
       "      <td>0.920792</td>\n",
       "      <td>0.804124</td>\n",
       "      <td>0.657895</td>\n",
       "      <td>0.746032</td>\n",
       "      <td>0.704735</td>\n",
       "      <td>0.5</td>\n",
       "      <td>0.302800</td>\n",
       "      <td>0.185935</td>\n",
       "      <td>0.263505</td>\n",
       "      <td>0.396239</td>\n",
       "      <td>0.300257</td>\n",
       "      <td>0.308848</td>\n",
       "      <td>0.426091</td>\n",
       "      <td>0.345000</td>\n",
       "      <td>0.338290</td>\n",
       "    </tr>\n",
       "    <tr>\n",
       "      <th>1895233</th>\n",
       "      <td>0.373051</td>\n",
       "      <td>0.547368</td>\n",
       "      <td>0.564202</td>\n",
       "      <td>0.801980</td>\n",
       "      <td>0.721649</td>\n",
       "      <td>0.747368</td>\n",
       "      <td>0.746032</td>\n",
       "      <td>0.770543</td>\n",
       "      <td>0.5</td>\n",
       "      <td>0.308899</td>\n",
       "      <td>0.203855</td>\n",
       "      <td>0.261033</td>\n",
       "      <td>0.287156</td>\n",
       "      <td>0.325964</td>\n",
       "      <td>0.337136</td>\n",
       "      <td>0.516190</td>\n",
       "      <td>0.345000</td>\n",
       "      <td>0.338290</td>\n",
       "    </tr>\n",
       "    <tr>\n",
       "      <th>1895234</th>\n",
       "      <td>0.264713</td>\n",
       "      <td>0.500000</td>\n",
       "      <td>0.603113</td>\n",
       "      <td>0.049505</td>\n",
       "      <td>0.319588</td>\n",
       "      <td>0.884211</td>\n",
       "      <td>0.492063</td>\n",
       "      <td>0.573700</td>\n",
       "      <td>0.5</td>\n",
       "      <td>0.333043</td>\n",
       "      <td>0.147004</td>\n",
       "      <td>0.267076</td>\n",
       "      <td>0.299461</td>\n",
       "      <td>0.300771</td>\n",
       "      <td>0.343721</td>\n",
       "      <td>0.460817</td>\n",
       "      <td>0.313360</td>\n",
       "      <td>0.401487</td>\n",
       "    </tr>\n",
       "    <tr>\n",
       "      <th>1895235</th>\n",
       "      <td>0.022300</td>\n",
       "      <td>0.484211</td>\n",
       "      <td>0.447471</td>\n",
       "      <td>0.544554</td>\n",
       "      <td>0.907216</td>\n",
       "      <td>0.652632</td>\n",
       "      <td>0.619048</td>\n",
       "      <td>0.581853</td>\n",
       "      <td>0.6</td>\n",
       "      <td>0.313255</td>\n",
       "      <td>0.211953</td>\n",
       "      <td>0.262131</td>\n",
       "      <td>0.367344</td>\n",
       "      <td>0.299229</td>\n",
       "      <td>0.358282</td>\n",
       "      <td>0.556077</td>\n",
       "      <td>0.248840</td>\n",
       "      <td>0.472119</td>\n",
       "    </tr>\n",
       "    <tr>\n",
       "      <th>1895236</th>\n",
       "      <td>0.677675</td>\n",
       "      <td>0.500000</td>\n",
       "      <td>0.513619</td>\n",
       "      <td>0.980198</td>\n",
       "      <td>0.762887</td>\n",
       "      <td>0.836842</td>\n",
       "      <td>1.000000</td>\n",
       "      <td>0.475278</td>\n",
       "      <td>0.6</td>\n",
       "      <td>0.113006</td>\n",
       "      <td>0.173362</td>\n",
       "      <td>0.000000</td>\n",
       "      <td>0.332366</td>\n",
       "      <td>0.182348</td>\n",
       "      <td>0.083565</td>\n",
       "      <td>0.399343</td>\n",
       "      <td>0.000000</td>\n",
       "      <td>0.156134</td>\n",
       "    </tr>\n",
       "  </tbody>\n",
       "</table>\n",
       "<p>1895237 rows × 18 columns</p>\n",
       "</div>"
      ],
      "text/plain": [
       "         cmi.m$value  cc.m$value  cp.m$value  cp1.m$value  cp2.m$value  \\\n",
       "0           0.747425    0.642105    0.380208     0.970297     0.649485   \n",
       "1           0.460760    0.615789    0.276042     0.712871     0.855670   \n",
       "2           0.546943    0.642105    0.380208     0.970297     0.649485   \n",
       "3           0.181230    0.652632    0.231771     0.118812     0.721649   \n",
       "4           0.036292    0.310526    0.437500     0.346535     0.329897   \n",
       "...              ...         ...         ...          ...          ...   \n",
       "1895232     0.262969    0.421053    0.490272     0.920792     0.804124   \n",
       "1895233     0.373051    0.547368    0.564202     0.801980     0.721649   \n",
       "1895234     0.264713    0.500000    0.603113     0.049505     0.319588   \n",
       "1895235     0.022300    0.484211    0.447471     0.544554     0.907216   \n",
       "1895236     0.677675    0.500000    0.513619     0.980198     0.762887   \n",
       "\n",
       "         hcm.m$value  rsa.m$value  scm.m$value  ssp.m$value  ecc.m$value  \\\n",
       "0           0.842105     0.875000     0.865854          0.6     0.128695   \n",
       "1           0.347368     0.250000     0.932662          0.4     0.301955   \n",
       "2           0.842105     0.500000     0.865854          0.4     0.303993   \n",
       "3           0.331579     0.000000     0.723754          0.4     0.263967   \n",
       "4           1.000000     0.250000     0.865854          0.4     0.255629   \n",
       "...              ...          ...          ...          ...          ...   \n",
       "1895232     0.657895     0.746032     0.704735          0.5     0.302800   \n",
       "1895233     0.747368     0.746032     0.770543          0.5     0.308899   \n",
       "1895234     0.884211     0.492063     0.573700          0.5     0.333043   \n",
       "1895235     0.652632     0.619048     0.581853          0.6     0.313255   \n",
       "1895236     0.836842     1.000000     0.475278          0.6     0.113006   \n",
       "\n",
       "         ecmi.m$value  ecp.m$value  ecp1.m$value  ecp2.m$value  ehcm.m$value  \\\n",
       "0            0.405053     0.004341      0.307943      0.373581      0.111101   \n",
       "1            0.564696     0.185416      0.525674      0.575125      0.331798   \n",
       "2            0.395378     0.157781      0.347092      0.506431      0.260565   \n",
       "3            0.257656     0.186501      0.345390      0.331820      0.328608   \n",
       "4            0.149792     0.147869      0.242411      0.323196      0.265527   \n",
       "...               ...          ...           ...           ...           ...   \n",
       "1895232      0.185935     0.263505      0.396239      0.300257      0.308848   \n",
       "1895233      0.203855     0.261033      0.287156      0.325964      0.337136   \n",
       "1895234      0.147004     0.267076      0.299461      0.300771      0.343721   \n",
       "1895235      0.211953     0.262131      0.367344      0.299229      0.358282   \n",
       "1895236      0.173362     0.000000      0.332366      0.182348      0.083565   \n",
       "\n",
       "         ersa.m$value  escm.m$value  essp.m$value  \n",
       "0            0.320395      0.136048      0.266667  \n",
       "1            0.432414      0.424396      0.430769  \n",
       "2            0.211100      0.408378      0.343590  \n",
       "3            0.196118      0.428089      0.343590  \n",
       "4            0.072863      0.432262      0.343590  \n",
       "...               ...           ...           ...  \n",
       "1895232      0.426091      0.345000      0.338290  \n",
       "1895233      0.516190      0.345000      0.338290  \n",
       "1895234      0.460817      0.313360      0.401487  \n",
       "1895235      0.556077      0.248840      0.472119  \n",
       "1895236      0.399343      0.000000      0.156134  \n",
       "\n",
       "[1895237 rows x 18 columns]"
      ]
     },
     "execution_count": 5,
     "metadata": {},
     "output_type": "execute_result"
    }
   ],
   "source": [
    "df_x"
   ]
  },
  {
   "cell_type": "code",
   "execution_count": 6,
   "metadata": {},
   "outputs": [],
   "source": [
    "df_x1 = df_x[df_y['inf.m$value']==0] # Dataframe x-axis with all zeros\n",
    "df_y1 = df_y[df_y['inf.m$value']==0] # Dataframe y-axis with all zeros\n",
    "\n",
    "df_x2 = df_x[df_y['inf.m$value']==1] # Dataframe x-axis with all ones\n",
    "df_y2 = df_y[df_y['inf.m$value']==1] # Dataframe y-axis with all ones"
   ]
  },
  {
   "cell_type": "code",
   "execution_count": 7,
   "metadata": {},
   "outputs": [
    {
     "data": {
      "text/plain": [
       "((1890174, 18), (1890174, 1), (5063, 18), (5063, 1))"
      ]
     },
     "execution_count": 7,
     "metadata": {},
     "output_type": "execute_result"
    }
   ],
   "source": [
    "df_x1.shape, df_y1.shape, df_x2.shape, df_y2.shape"
   ]
  },
  {
   "cell_type": "code",
   "execution_count": 8,
   "metadata": {
    "scrolled": true
   },
   "outputs": [],
   "source": [
    "# Choose random indices from df_x1.index with length = 5*length of df_x2\n",
    "\n",
    "rind = np.random.choice(np.array(df_x1.index), size=5*len(df_x2))"
   ]
  },
  {
   "cell_type": "code",
   "execution_count": 9,
   "metadata": {},
   "outputs": [
    {
     "data": {
      "text/plain": [
       "1426795"
      ]
     },
     "execution_count": 9,
     "metadata": {},
     "output_type": "execute_result"
    }
   ],
   "source": [
    "rind[1]"
   ]
  },
  {
   "cell_type": "code",
   "execution_count": 10,
   "metadata": {
    "scrolled": true
   },
   "outputs": [
    {
     "data": {
      "text/html": [
       "<div>\n",
       "<style scoped>\n",
       "    .dataframe tbody tr th:only-of-type {\n",
       "        vertical-align: middle;\n",
       "    }\n",
       "\n",
       "    .dataframe tbody tr th {\n",
       "        vertical-align: top;\n",
       "    }\n",
       "\n",
       "    .dataframe thead th {\n",
       "        text-align: right;\n",
       "    }\n",
       "</style>\n",
       "<table border=\"1\" class=\"dataframe\">\n",
       "  <thead>\n",
       "    <tr style=\"text-align: right;\">\n",
       "      <th></th>\n",
       "      <th>cmi.m$value</th>\n",
       "      <th>cc.m$value</th>\n",
       "      <th>cp.m$value</th>\n",
       "      <th>cp1.m$value</th>\n",
       "      <th>cp2.m$value</th>\n",
       "      <th>hcm.m$value</th>\n",
       "      <th>rsa.m$value</th>\n",
       "      <th>scm.m$value</th>\n",
       "      <th>ssp.m$value</th>\n",
       "      <th>ecc.m$value</th>\n",
       "      <th>ecmi.m$value</th>\n",
       "      <th>ecp.m$value</th>\n",
       "      <th>ecp1.m$value</th>\n",
       "      <th>ecp2.m$value</th>\n",
       "      <th>ehcm.m$value</th>\n",
       "      <th>ersa.m$value</th>\n",
       "      <th>escm.m$value</th>\n",
       "      <th>essp.m$value</th>\n",
       "    </tr>\n",
       "  </thead>\n",
       "  <tbody>\n",
       "    <tr>\n",
       "      <th>1400722</th>\n",
       "      <td>0.003025</td>\n",
       "      <td>0.500000</td>\n",
       "      <td>0.294271</td>\n",
       "      <td>0.693069</td>\n",
       "      <td>0.432990</td>\n",
       "      <td>0.857895</td>\n",
       "      <td>0.00000</td>\n",
       "      <td>0.507423</td>\n",
       "      <td>0.5</td>\n",
       "      <td>0.461258</td>\n",
       "      <td>0.035836</td>\n",
       "      <td>0.449743</td>\n",
       "      <td>0.366458</td>\n",
       "      <td>0.584192</td>\n",
       "      <td>0.598313</td>\n",
       "      <td>0.000000</td>\n",
       "      <td>0.726130</td>\n",
       "      <td>0.800000</td>\n",
       "    </tr>\n",
       "    <tr>\n",
       "      <th>1426795</th>\n",
       "      <td>0.030525</td>\n",
       "      <td>0.515789</td>\n",
       "      <td>0.351562</td>\n",
       "      <td>0.544554</td>\n",
       "      <td>0.927835</td>\n",
       "      <td>0.678947</td>\n",
       "      <td>0.00000</td>\n",
       "      <td>0.805938</td>\n",
       "      <td>0.5</td>\n",
       "      <td>0.426618</td>\n",
       "      <td>0.041707</td>\n",
       "      <td>0.538283</td>\n",
       "      <td>0.555348</td>\n",
       "      <td>0.635141</td>\n",
       "      <td>0.723879</td>\n",
       "      <td>0.025961</td>\n",
       "      <td>0.744975</td>\n",
       "      <td>0.800000</td>\n",
       "    </tr>\n",
       "    <tr>\n",
       "      <th>18184</th>\n",
       "      <td>0.002695</td>\n",
       "      <td>0.515789</td>\n",
       "      <td>0.351562</td>\n",
       "      <td>0.762376</td>\n",
       "      <td>0.948454</td>\n",
       "      <td>0.678947</td>\n",
       "      <td>0.00000</td>\n",
       "      <td>0.805938</td>\n",
       "      <td>0.5</td>\n",
       "      <td>0.502270</td>\n",
       "      <td>0.013919</td>\n",
       "      <td>0.453447</td>\n",
       "      <td>0.642979</td>\n",
       "      <td>0.633530</td>\n",
       "      <td>0.640826</td>\n",
       "      <td>0.113041</td>\n",
       "      <td>0.817848</td>\n",
       "      <td>0.543590</td>\n",
       "    </tr>\n",
       "    <tr>\n",
       "      <th>351053</th>\n",
       "      <td>0.000000</td>\n",
       "      <td>0.415789</td>\n",
       "      <td>0.250000</td>\n",
       "      <td>0.623762</td>\n",
       "      <td>0.185567</td>\n",
       "      <td>0.689474</td>\n",
       "      <td>0.00000</td>\n",
       "      <td>0.626723</td>\n",
       "      <td>0.1</td>\n",
       "      <td>0.386755</td>\n",
       "      <td>0.000000</td>\n",
       "      <td>0.355126</td>\n",
       "      <td>0.596482</td>\n",
       "      <td>0.581260</td>\n",
       "      <td>0.524651</td>\n",
       "      <td>0.000000</td>\n",
       "      <td>0.631512</td>\n",
       "      <td>0.256410</td>\n",
       "    </tr>\n",
       "    <tr>\n",
       "      <th>905510</th>\n",
       "      <td>0.019856</td>\n",
       "      <td>0.615789</td>\n",
       "      <td>0.276042</td>\n",
       "      <td>0.059406</td>\n",
       "      <td>0.680412</td>\n",
       "      <td>0.347368</td>\n",
       "      <td>0.06250</td>\n",
       "      <td>0.932662</td>\n",
       "      <td>0.5</td>\n",
       "      <td>0.581186</td>\n",
       "      <td>0.038366</td>\n",
       "      <td>0.464601</td>\n",
       "      <td>0.399047</td>\n",
       "      <td>0.568579</td>\n",
       "      <td>0.626445</td>\n",
       "      <td>0.105079</td>\n",
       "      <td>0.859641</td>\n",
       "      <td>0.800000</td>\n",
       "    </tr>\n",
       "    <tr>\n",
       "      <th>...</th>\n",
       "      <td>...</td>\n",
       "      <td>...</td>\n",
       "      <td>...</td>\n",
       "      <td>...</td>\n",
       "      <td>...</td>\n",
       "      <td>...</td>\n",
       "      <td>...</td>\n",
       "      <td>...</td>\n",
       "      <td>...</td>\n",
       "      <td>...</td>\n",
       "      <td>...</td>\n",
       "      <td>...</td>\n",
       "      <td>...</td>\n",
       "      <td>...</td>\n",
       "      <td>...</td>\n",
       "      <td>...</td>\n",
       "      <td>...</td>\n",
       "      <td>...</td>\n",
       "    </tr>\n",
       "    <tr>\n",
       "      <th>1040524</th>\n",
       "      <td>0.277068</td>\n",
       "      <td>0.500000</td>\n",
       "      <td>0.489583</td>\n",
       "      <td>0.306931</td>\n",
       "      <td>0.567010</td>\n",
       "      <td>1.000000</td>\n",
       "      <td>0.09375</td>\n",
       "      <td>0.925239</td>\n",
       "      <td>0.5</td>\n",
       "      <td>0.414204</td>\n",
       "      <td>0.310222</td>\n",
       "      <td>0.524505</td>\n",
       "      <td>0.615753</td>\n",
       "      <td>0.578502</td>\n",
       "      <td>0.784638</td>\n",
       "      <td>0.315271</td>\n",
       "      <td>0.902957</td>\n",
       "      <td>0.864103</td>\n",
       "    </tr>\n",
       "    <tr>\n",
       "      <th>1633897</th>\n",
       "      <td>0.057999</td>\n",
       "      <td>0.489474</td>\n",
       "      <td>0.312500</td>\n",
       "      <td>0.801980</td>\n",
       "      <td>0.474227</td>\n",
       "      <td>0.689474</td>\n",
       "      <td>0.00000</td>\n",
       "      <td>0.704735</td>\n",
       "      <td>0.5</td>\n",
       "      <td>0.598908</td>\n",
       "      <td>0.023790</td>\n",
       "      <td>0.521502</td>\n",
       "      <td>0.387402</td>\n",
       "      <td>0.660810</td>\n",
       "      <td>0.659508</td>\n",
       "      <td>0.000000</td>\n",
       "      <td>0.717044</td>\n",
       "      <td>0.800000</td>\n",
       "    </tr>\n",
       "    <tr>\n",
       "      <th>193611</th>\n",
       "      <td>0.039785</td>\n",
       "      <td>0.710526</td>\n",
       "      <td>0.575875</td>\n",
       "      <td>0.881188</td>\n",
       "      <td>0.896907</td>\n",
       "      <td>0.547368</td>\n",
       "      <td>0.15625</td>\n",
       "      <td>0.761400</td>\n",
       "      <td>0.4</td>\n",
       "      <td>0.608143</td>\n",
       "      <td>0.075305</td>\n",
       "      <td>0.458900</td>\n",
       "      <td>0.580769</td>\n",
       "      <td>0.620391</td>\n",
       "      <td>0.430058</td>\n",
       "      <td>0.235507</td>\n",
       "      <td>0.720161</td>\n",
       "      <td>0.728205</td>\n",
       "    </tr>\n",
       "    <tr>\n",
       "      <th>516584</th>\n",
       "      <td>0.060061</td>\n",
       "      <td>0.494737</td>\n",
       "      <td>0.343750</td>\n",
       "      <td>0.881188</td>\n",
       "      <td>0.927835</td>\n",
       "      <td>0.636842</td>\n",
       "      <td>0.00000</td>\n",
       "      <td>0.819463</td>\n",
       "      <td>0.1</td>\n",
       "      <td>0.545021</td>\n",
       "      <td>0.090210</td>\n",
       "      <td>0.537985</td>\n",
       "      <td>0.646576</td>\n",
       "      <td>0.554666</td>\n",
       "      <td>0.617256</td>\n",
       "      <td>0.010114</td>\n",
       "      <td>0.923511</td>\n",
       "      <td>0.000000</td>\n",
       "    </tr>\n",
       "    <tr>\n",
       "      <th>1217326</th>\n",
       "      <td>0.000000</td>\n",
       "      <td>0.468421</td>\n",
       "      <td>0.286458</td>\n",
       "      <td>0.009901</td>\n",
       "      <td>1.000000</td>\n",
       "      <td>0.742105</td>\n",
       "      <td>0.00000</td>\n",
       "      <td>0.803156</td>\n",
       "      <td>0.4</td>\n",
       "      <td>0.443297</td>\n",
       "      <td>0.016527</td>\n",
       "      <td>0.520065</td>\n",
       "      <td>0.259103</td>\n",
       "      <td>0.631665</td>\n",
       "      <td>0.696867</td>\n",
       "      <td>0.000000</td>\n",
       "      <td>0.869420</td>\n",
       "      <td>0.600000</td>\n",
       "    </tr>\n",
       "  </tbody>\n",
       "</table>\n",
       "<p>25315 rows × 18 columns</p>\n",
       "</div>"
      ],
      "text/plain": [
       "         cmi.m$value  cc.m$value  cp.m$value  cp1.m$value  cp2.m$value  \\\n",
       "1400722     0.003025    0.500000    0.294271     0.693069     0.432990   \n",
       "1426795     0.030525    0.515789    0.351562     0.544554     0.927835   \n",
       "18184       0.002695    0.515789    0.351562     0.762376     0.948454   \n",
       "351053      0.000000    0.415789    0.250000     0.623762     0.185567   \n",
       "905510      0.019856    0.615789    0.276042     0.059406     0.680412   \n",
       "...              ...         ...         ...          ...          ...   \n",
       "1040524     0.277068    0.500000    0.489583     0.306931     0.567010   \n",
       "1633897     0.057999    0.489474    0.312500     0.801980     0.474227   \n",
       "193611      0.039785    0.710526    0.575875     0.881188     0.896907   \n",
       "516584      0.060061    0.494737    0.343750     0.881188     0.927835   \n",
       "1217326     0.000000    0.468421    0.286458     0.009901     1.000000   \n",
       "\n",
       "         hcm.m$value  rsa.m$value  scm.m$value  ssp.m$value  ecc.m$value  \\\n",
       "1400722     0.857895      0.00000     0.507423          0.5     0.461258   \n",
       "1426795     0.678947      0.00000     0.805938          0.5     0.426618   \n",
       "18184       0.678947      0.00000     0.805938          0.5     0.502270   \n",
       "351053      0.689474      0.00000     0.626723          0.1     0.386755   \n",
       "905510      0.347368      0.06250     0.932662          0.5     0.581186   \n",
       "...              ...          ...          ...          ...          ...   \n",
       "1040524     1.000000      0.09375     0.925239          0.5     0.414204   \n",
       "1633897     0.689474      0.00000     0.704735          0.5     0.598908   \n",
       "193611      0.547368      0.15625     0.761400          0.4     0.608143   \n",
       "516584      0.636842      0.00000     0.819463          0.1     0.545021   \n",
       "1217326     0.742105      0.00000     0.803156          0.4     0.443297   \n",
       "\n",
       "         ecmi.m$value  ecp.m$value  ecp1.m$value  ecp2.m$value  ehcm.m$value  \\\n",
       "1400722      0.035836     0.449743      0.366458      0.584192      0.598313   \n",
       "1426795      0.041707     0.538283      0.555348      0.635141      0.723879   \n",
       "18184        0.013919     0.453447      0.642979      0.633530      0.640826   \n",
       "351053       0.000000     0.355126      0.596482      0.581260      0.524651   \n",
       "905510       0.038366     0.464601      0.399047      0.568579      0.626445   \n",
       "...               ...          ...           ...           ...           ...   \n",
       "1040524      0.310222     0.524505      0.615753      0.578502      0.784638   \n",
       "1633897      0.023790     0.521502      0.387402      0.660810      0.659508   \n",
       "193611       0.075305     0.458900      0.580769      0.620391      0.430058   \n",
       "516584       0.090210     0.537985      0.646576      0.554666      0.617256   \n",
       "1217326      0.016527     0.520065      0.259103      0.631665      0.696867   \n",
       "\n",
       "         ersa.m$value  escm.m$value  essp.m$value  \n",
       "1400722      0.000000      0.726130      0.800000  \n",
       "1426795      0.025961      0.744975      0.800000  \n",
       "18184        0.113041      0.817848      0.543590  \n",
       "351053       0.000000      0.631512      0.256410  \n",
       "905510       0.105079      0.859641      0.800000  \n",
       "...               ...           ...           ...  \n",
       "1040524      0.315271      0.902957      0.864103  \n",
       "1633897      0.000000      0.717044      0.800000  \n",
       "193611       0.235507      0.720161      0.728205  \n",
       "516584       0.010114      0.923511      0.000000  \n",
       "1217326      0.000000      0.869420      0.600000  \n",
       "\n",
       "[25315 rows x 18 columns]"
      ]
     },
     "execution_count": 10,
     "metadata": {},
     "output_type": "execute_result"
    }
   ],
   "source": [
    "df_x1.loc[rind]"
   ]
  },
  {
   "cell_type": "code",
   "execution_count": 11,
   "metadata": {},
   "outputs": [],
   "source": [
    "df_x3 = df_x1.loc[rind]\n",
    "df_y3 = df_y1.loc[rind]"
   ]
  },
  {
   "cell_type": "code",
   "execution_count": 12,
   "metadata": {},
   "outputs": [],
   "source": [
    "df_xc = pd.concat([df_x3, df_x2], ignore_index=True)\n",
    "df_yc = pd.concat([df_y3, df_y2], ignore_index=True)"
   ]
  },
  {
   "cell_type": "code",
   "execution_count": 13,
   "metadata": {},
   "outputs": [
    {
     "data": {
      "text/plain": [
       "((30378, 18), (30378, 1))"
      ]
     },
     "execution_count": 13,
     "metadata": {},
     "output_type": "execute_result"
    }
   ],
   "source": [
    "df_xc.shape, df_yc.shape"
   ]
  },
  {
   "cell_type": "code",
   "execution_count": 15,
   "metadata": {
    "scrolled": true
   },
   "outputs": [],
   "source": [
    "x = (df_xc.values)\n",
    "y = (df_yc.values)"
   ]
  },
  {
   "cell_type": "code",
   "execution_count": null,
   "metadata": {},
   "outputs": [],
   "source": [
    "# for i in tqdm(range(len(x))):\n",
    "#     x[i,0] = dict_var12[x[i,0]]\n",
    "#     x[i,1] = dict_var12[x[i,1]]"
   ]
  },
  {
   "cell_type": "code",
   "execution_count": 16,
   "metadata": {},
   "outputs": [],
   "source": [
    "scaler = StandardScaler().fit(x)\n",
    "rescaledX = scaler.transform(x)"
   ]
  },
  {
   "cell_type": "code",
   "execution_count": 17,
   "metadata": {},
   "outputs": [],
   "source": [
    "y = y.ravel()"
   ]
  },
  {
   "cell_type": "code",
   "execution_count": 18,
   "metadata": {},
   "outputs": [],
   "source": [
    "X_train, X_test, y_train, y_test = train_test_split(rescaledX, y, test_size=0.25, random_state=42)"
   ]
  },
  {
   "cell_type": "code",
   "execution_count": 19,
   "metadata": {},
   "outputs": [
    {
     "name": "stdout",
     "output_type": "stream",
     "text": [
      "{'bootstrap': [True, False],\n",
      " 'max_depth': [10, 20, 30, 40, 50, 60, 70, 80, 90, 100, 110, None],\n",
      " 'max_features': ['auto', 'sqrt'],\n",
      " 'min_samples_leaf': [1, 2, 4],\n",
      " 'min_samples_split': [2, 5, 10],\n",
      " 'n_estimators': [200, 400, 600, 800, 1000, 1200, 1400, 1600, 1800, 2000]}\n",
      "Total number of combinations:             4320\n"
     ]
    }
   ],
   "source": [
    "# Number of trees in random forest\n",
    "n_estimators = [int(x) for x in np.linspace(200, 2000, 10)]\n",
    "# Number of features to consider at every split\n",
    "max_features = ['auto', 'sqrt']\n",
    "# Maximum number of levels in tree\n",
    "max_depth = [int(x) for x in np.linspace(10, 110, num = 11)]\n",
    "max_depth.append(None)\n",
    "# Minimum number of samples required to split a node\n",
    "min_samples_split = [2, 5, 10]\n",
    "# Minimum number of samples required at each leaf node\n",
    "min_samples_leaf = [1, 2, 4]\n",
    "# Method of selecting samples for training each tree\n",
    "bootstrap = [True, False]\n",
    "\n",
    "# Create the random grid\n",
    "random_grid = {'n_estimators': n_estimators,\n",
    "               'max_features': max_features,\n",
    "               'max_depth': max_depth,\n",
    "               'min_samples_split': min_samples_split,\n",
    "               'min_samples_leaf': min_samples_leaf,\n",
    "               'bootstrap': bootstrap}\n",
    "\n",
    "pprint(random_grid)\n",
    "\n",
    "lengths = [len(lst) for lst in random_grid.values()]\n",
    "\n",
    "combs=1\n",
    "for i in range(len(lengths)):\n",
    "    combs *= lengths[i]\n",
    "print('Total number of combinations: {:16d}'.format(combs))  \n"
   ]
  },
  {
   "cell_type": "code",
   "execution_count": 20,
   "metadata": {},
   "outputs": [],
   "source": [
    "# Use the random grid to search for best hyperparameters\n",
    "\n",
    "# Base model to tune\n",
    "rf = RandomForestClassifier(class_weight='balanced')\n",
    "\n",
    "# Random search of parameters, using 5 fold cross validation, \n",
    "# search across 100 different combinations, and use all available cores\n",
    "rf_random = RandomizedSearchCV(estimator = rf, param_distributions = random_grid,\n",
    "                               scoring='f1', n_iter = 100, cv = 5, verbose=1, \n",
    "                               random_state=42, n_jobs = -1)"
   ]
  },
  {
   "cell_type": "code",
   "execution_count": 21,
   "metadata": {
    "scrolled": true
   },
   "outputs": [
    {
     "name": "stdout",
     "output_type": "stream",
     "text": [
      "Fitting 5 folds for each of 100 candidates, totalling 500 fits\n",
      "Time taken in fitting: 01h:30m:11.00s\n"
     ]
    }
   ],
   "source": [
    "# Fit the random search model\n",
    "time_start = time.time()\n",
    "rf_random.fit(X_train, y_train)\n",
    "e = int(time.time() - time_start) # elapsed time\n",
    "print(\"Time taken in fitting: {:02d}h:{:02d}m:{:5.2f}s\".format(e//3600, e % 3600 // 60, e % 60))"
   ]
  },
  {
   "cell_type": "code",
   "execution_count": 22,
   "metadata": {},
   "outputs": [
    {
     "data": {
      "text/plain": [
       "{'n_estimators': 1200,\n",
       " 'min_samples_split': 10,\n",
       " 'min_samples_leaf': 4,\n",
       " 'max_features': 'sqrt',\n",
       " 'max_depth': 20,\n",
       " 'bootstrap': False}"
      ]
     },
     "execution_count": 22,
     "metadata": {},
     "output_type": "execute_result"
    }
   ],
   "source": [
    "rf_random.best_params_"
   ]
  },
  {
   "cell_type": "code",
   "execution_count": 23,
   "metadata": {},
   "outputs": [
    {
     "name": "stdout",
     "output_type": "stream",
     "text": [
      "Best Random model Accuracy: 84.07%\n"
     ]
    }
   ],
   "source": [
    "best_random = rf_random.best_estimator_\n",
    "random_accuracy = best_random.score(X_test, y_test)\n",
    "print(\"Best Random model Accuracy: %.2f%%\" % (random_accuracy * 100.0))"
   ]
  },
  {
   "cell_type": "code",
   "execution_count": 24,
   "metadata": {},
   "outputs": [],
   "source": [
    "y_pred = best_random.predict(X_test)"
   ]
  },
  {
   "cell_type": "markdown",
   "metadata": {},
   "source": [
    "Further fine-tuning near the best fitted parameters"
   ]
  },
  {
   "cell_type": "code",
   "execution_count": 25,
   "metadata": {},
   "outputs": [
    {
     "data": {
      "image/png": "[encoded data removed]",
      "text/plain": [
       "<Figure size 1000x800 with 2 Axes>"
      ]
     },
     "metadata": {},
     "output_type": "display_data"
    }
   ],
   "source": [
    "from sklearn.metrics import confusion_matrix\n",
    "from sklearn.metrics import classification_report\n",
    "\n",
    "cm = confusion_matrix(y_test, y_pred)\n",
    "\n",
    "fig, ax = plt.subplots(figsize=(10, 8))\n",
    "plt.xticks(fontsize=18)\n",
    "plt.yticks(fontsize=18)\n",
    "cmap = sns.cubehelix_palette(light=0.98, as_cmap=True)\n",
    "unsuv_cm = pd.DataFrame(cm)\n",
    "sns.heatmap(unsuv_cm, annot=True,annot_kws={\"size\": 16}, cmap=cmap, fmt='d')# font size\n",
    "plt.xlabel(\"Predicted Class\", fontsize=20, labelpad=20)\n",
    "plt.ylabel(\"True Class\", fontsize=20, labelpad=20)\n",
    "plt.show()"
   ]
  },
  {
   "cell_type": "code",
   "execution_count": 26,
   "metadata": {},
   "outputs": [],
   "source": [
    "fig.savefig('conf_matrix_new.svg', format= 'svg')\n",
    "fig.savefig('conf_matrix_leaving_new.eps', format= 'eps')"
   ]
  },
  {
   "cell_type": "code",
   "execution_count": 27,
   "metadata": {},
   "outputs": [],
   "source": [
    "# Create the parameter grid based on the results of random search \n",
    "param_grid = {\n",
    "    'bootstrap': [True, False],\n",
    "    'max_depth': [10, 20, 40],\n",
    "    'max_features': ['sqrt'],\n",
    "    'min_samples_leaf': [4,6,8],\n",
    "    'min_samples_split': [2, 3, 4],\n",
    "    'n_estimators': [1600, 1800, 2000]\n",
    "}"
   ]
  },
  {
   "cell_type": "code",
   "execution_count": 28,
   "metadata": {},
   "outputs": [],
   "source": [
    "# Create a base model\n",
    "rf = RandomForestClassifier(class_weight='balanced')\n",
    "\n",
    "# Instantiate the grid search model\n",
    "grid_search = GridSearchCV(estimator = rf, param_grid = param_grid, scoring='f1',\n",
    "                           cv = 5, n_jobs = -1, verbose = 1)"
   ]
  },
  {
   "cell_type": "code",
   "execution_count": null,
   "metadata": {},
   "outputs": [
    {
     "name": "stdout",
     "output_type": "stream",
     "text": [
      "Fitting 5 folds for each of 162 candidates, totalling 810 fits\n"
     ]
    }
   ],
   "source": [
    "time_start = time.time()\n",
    "grid_search.fit(X_train, y_train);\n",
    "e = int(time.time() - time_start) # elapsed time\n",
    "\n",
    "print(\"Fitting Time: {:02d}h:{:02d}m:{:5.2f}s\".format(e//3600, e % 3600 // 60, e % 60))"
   ]
  },
  {
   "cell_type": "code",
   "execution_count": null,
   "metadata": {},
   "outputs": [],
   "source": [
    "joblib.dump(grid_search, 'RF_random_grid_model_with_env_model_kernel_3_new.sav')"
   ]
  },
  {
   "cell_type": "code",
   "execution_count": null,
   "metadata": {},
   "outputs": [],
   "source": [
    "grid_search.best_params_"
   ]
  },
  {
   "cell_type": "code",
   "execution_count": null,
   "metadata": {},
   "outputs": [],
   "source": [
    "best_grid = grid_search.best_estimator_"
   ]
  },
  {
   "cell_type": "code",
   "execution_count": null,
   "metadata": {},
   "outputs": [],
   "source": [
    "final_model = grid_search.best_estimator_"
   ]
  },
  {
   "cell_type": "code",
   "execution_count": null,
   "metadata": {},
   "outputs": [],
   "source": [
    "print('Final Model Parameters:\\n')\n",
    "pprint(final_model.get_params())\n",
    "print('\\n')\n",
    "grid_final_accuracy = final_model.score(X_test, y_test)\n",
    "print(\"Grid Final Accuracy: %.2f%%\" % (grid_final_accuracy * 100.0))"
   ]
  },
  {
   "cell_type": "code",
   "execution_count": null,
   "metadata": {},
   "outputs": [],
   "source": [
    "y_pred = final_model.predict(X_test)"
   ]
  },
  {
   "cell_type": "code",
   "execution_count": null,
   "metadata": {},
   "outputs": [],
   "source": [
    "from sklearn.metrics import confusion_matrix\n",
    "from sklearn.metrics import classification_report\n",
    "cm = confusion_matrix(y_test, y_pred)\n",
    "\n",
    "fig, ax = plt.subplots(figsize=(10, 8))\n",
    "plt.xticks(fontsize=18)\n",
    "plt.yticks(fontsize=18)\n",
    "cmap = sns.cubehelix_palette(light=0.98, as_cmap=True)\n",
    "unsuv_cm = pd.DataFrame(cm)\n",
    "sns.heatmap(unsuv_cm, annot=True,annot_kws={\"size\": 16}, cmap=cmap, fmt='d')# font size\n",
    "plt.xlabel(\"Predicted Class\", fontsize=20, labelpad=20)\n",
    "plt.ylabel(\"True Class\", fontsize=20, labelpad=20)\n",
    "plt.show()\n"
   ]
  },
  {
   "cell_type": "code",
   "execution_count": null,
   "metadata": {},
   "outputs": [],
   "source": [
    "fig.savefig('conf_matrix_f1_kernel_3_15.svg', format= 'svg')\n",
    "fig.savefig('conf_matrix_f1_kernel_3_15.eps', format= 'eps')"
   ]
  },
  {
   "cell_type": "code",
   "execution_count": null,
   "metadata": {},
   "outputs": [],
   "source": [
    "print(classification_report(y_test, y_pred))"
   ]
  },
  {
   "cell_type": "markdown",
   "metadata": {},
   "source": [
    "Feature Importance"
   ]
  },
  {
   "cell_type": "code",
   "execution_count": null,
   "metadata": {},
   "outputs": [],
   "source": [
    "importances = final_model.feature_importances_\n",
    "std = np.std([tree.feature_importances_ for tree in final_model.estimators_],\n",
    "             axis=0)\n",
    "indices = np.argsort(importances)[::-1]\n",
    "print(final_model.feature_importances_)"
   ]
  },
  {
   "cell_type": "code",
   "execution_count": null,
   "metadata": {},
   "outputs": [],
   "source": [
    "'''# Print the feature ranking\n",
    "print(\"Feature ranking:\")\n",
    "\n",
    "for f in range(X_train.shape[1]):\n",
    "    print(\"%d. feature %d (%f)\" % (f + 1, indices[f], importances[indices[f]]))'''"
   ]
  },
  {
   "cell_type": "code",
   "execution_count": null,
   "metadata": {},
   "outputs": [],
   "source": [
    "n_feature = 18\n",
    "graph= plt.figure(figsize=(10,7))\n",
    "plt.title(\"Feature importance\")\n",
    "plt.bar(range(X_train.shape[1])[0:n_feature], importances[indices[0:n_feature]],\n",
    "       color=\"royalblue\", yerr=std[indices[0:n_feature]], align=\"center\")\n",
    "plt.xticks(range(X_train.shape[1])[0:n_feature], indices[0:n_feature])\n",
    "plt.xlim([-1, n_feature])\n",
    "plt.show()\n",
    "graph.savefig('feature_importace_kernel_3_15.svg', format= 'svg')\n",
    "graph.savefig('feature_importace_kernel_3_15.eps', format= 'eps')\n"
   ]
  },
  {
   "cell_type": "code",
   "execution_count": null,
   "metadata": {},
   "outputs": [],
   "source": [
    "fpr, tpr, threshold = roc_curve(y_test, y_pred)\n",
    "roc_auc = auc(fpr, tpr)"
   ]
  },
  {
   "cell_type": "code",
   "execution_count": null,
   "metadata": {},
   "outputs": [],
   "source": [
    "auc_graph= plt.figure()\n",
    "plt.title('Receiver Operating Characteristic')\n",
    "plt.plot(fpr, tpr, 'b', label = 'AUC = %0.2f' % roc_auc)\n",
    "plt.legend(loc = 'lower right')\n",
    "plt.plot([0, 1], [0, 1],'r--')\n",
    "plt.xlim([0, 1])\n",
    "plt.ylim([0, 1])\n",
    "plt.ylabel('True Positive Rate')\n",
    "plt.xlabel('False Positive Rate')\n",
    "plt.show()\n",
    "auc_graph.savefig('auc_roc_kernel_3_15.svg', format= 'svg')\n",
    "auc_graph.savefig('auc_roc_kernel_3_15.eps', format= 'eps')\n"
   ]
  },
  {
   "cell_type": "markdown",
   "metadata": {},
   "source": [
    "#### Testing on \"data_frames_01102018/3i4r_final_df.csv\""
   ]
  },
  {
   "cell_type": "code",
   "execution_count": null,
   "metadata": {},
   "outputs": [],
   "source": [
    "data_dir = \"/home/lab6nb/random_forests/test_3.15/\"\n",
    "df = pd.read_csv(data_dir + \"3i4r_k3_15_df.csv\")\n",
    "\n",
    "df_x3i4r = (df[[\"cmi.m$value\",\"cc.m$value\",\"cp.m$value\",\"cp1.m$value\", \"cp2.m$value\",\"hcm.m$value\",\"rsa.m$value\",\n",
    "            \"scm.m$value\",\"ssp.m$value\", \"ecc.m$value\", \"ecmi.m$value\", \"ecp.m$value\", \"ecp1.m$value\", \"ecp2.m$value\", \"ehcm.m$value\", \"ersa.m$value\", \"escm.m$value\", \"essp.m$value\"]])\n",
    "\n",
    "df_y3i4r = (df[[\"inf.m$value\"]])\n",
    "\n",
    "df_x3i4r.shape, df_y3i4r[df_y3i4r[\"inf.m$value\"] == 1].shape"
   ]
  },
  {
   "cell_type": "code",
   "execution_count": null,
   "metadata": {},
   "outputs": [],
   "source": [
    "xtest_3i4r = np.array(df_x3i4r)\n",
    "ytest_3i4r = np.array(df_y3i4r)"
   ]
  },
  {
   "cell_type": "code",
   "execution_count": null,
   "metadata": {},
   "outputs": [],
   "source": [
    "rsc_xtest_3i4r = scaler.transform(xtest_3i4r)"
   ]
  },
  {
   "cell_type": "code",
   "execution_count": null,
   "metadata": {},
   "outputs": [],
   "source": [
    "ytest_3i4r = ytest_3i4r.ravel()"
   ]
  },
  {
   "cell_type": "code",
   "execution_count": null,
   "metadata": {},
   "outputs": [],
   "source": [
    "ypred_3i4r = final_model.predict(rsc_xtest_3i4r)"
   ]
  },
  {
   "cell_type": "code",
   "execution_count": null,
   "metadata": {},
   "outputs": [],
   "source": [
    "test_prob = final_model.predict_proba(rsc_xtest_3i4r)"
   ]
  },
  {
   "cell_type": "code",
   "execution_count": null,
   "metadata": {},
   "outputs": [],
   "source": [
    "sns.distplot(test_prob[(ytest_3i4r == 0) & (ypred_3i4r == 1)][:,1])\n",
    "sns.distplot(test_prob[(ytest_3i4r == 1) & (ypred_3i4r == 1)][:,1])\n",
    "plt.show()"
   ]
  },
  {
   "cell_type": "code",
   "execution_count": null,
   "metadata": {},
   "outputs": [],
   "source": [
    "threshold=0.5\n",
    "predicted_proba = final_model.predict_proba(rsc_xtest_3i4r)\n",
    "predicted = (predicted_proba [:,1] >= threshold).astype('int')"
   ]
  },
  {
   "cell_type": "code",
   "execution_count": null,
   "metadata": {},
   "outputs": [],
   "source": [
    "predicted.shape, ytest_3i4r.shape"
   ]
  },
  {
   "cell_type": "code",
   "execution_count": null,
   "metadata": {},
   "outputs": [],
   "source": [
    "cm = confusion_matrix(ytest_3i4r, predicted)#ypred_3i4r)\n",
    "\n",
    "fig, ax = plt.subplots(figsize=(10, 8))\n",
    "plt.xticks(fontsize=18)\n",
    "plt.yticks(fontsize=18)\n",
    "cmap = sns.cubehelix_palette(light=0.98, as_cmap=True)\n",
    "unsuv_cm = pd.DataFrame(cm)\n",
    "sns.heatmap(unsuv_cm, annot=True,annot_kws={\"size\": 16}, cmap=cmap, fmt='d')# font size\n",
    "plt.xlabel(\"Predicted Class\", fontsize=20, labelpad=20)\n",
    "plt.ylabel(\"True Class\", fontsize=20, labelpad=20)\n",
    "plt.show()"
   ]
  },
  {
   "cell_type": "code",
   "execution_count": null,
   "metadata": {},
   "outputs": [],
   "source": [
    "print(classification_report(ytest_3i4r, predicted))#ypred_3i4r))"
   ]
  },
  {
   "cell_type": "code",
   "execution_count": null,
   "metadata": {},
   "outputs": [],
   "source": [
    "predicted = pd.DataFrame(predicted, columns=['prediction']).to_csv('prediction_5yvt_k9.csv')"
   ]
  },
  {
   "cell_type": "code",
   "execution_count": null,
   "metadata": {},
   "outputs": [],
   "source": []
  },
  {
   "cell_type": "code",
   "execution_count": null,
   "metadata": {},
   "outputs": [],
   "source": []
  },
  {
   "cell_type": "code",
   "execution_count": null,
   "metadata": {},
   "outputs": [],
   "source": []
  }
 ],
 "metadata": {
  "kernelspec": {
   "display_name": "Python 3 (ipykernel)",
   "language": "python",
   "name": "python3"
  },
  "language_info": {
   "codemirror_mode": {
    "name": "ipython",
    "version": 3
   },
   "file_extension": ".py",
   "mimetype": "text/x-python",
   "name": "python",
   "nbconvert_exporter": "python",
   "pygments_lexer": "ipython3",
   "version": "3.10.9"
  }
 },
 "nbformat": 4,
 "nbformat_minor": 2
}
